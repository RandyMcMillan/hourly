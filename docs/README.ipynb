{
 "cells": [
  {
   "cell_type": "markdown",
   "metadata": {},
   "source": [
    "# Tutorial\n",
    "\n",
    "We can illustrate how to use hourly by looking at the hourly repo itself.\n",
    "\n",
    "    git clone https://github.com/asherp/hourly.git\n",
    "    cd hourly"
   ]
  },
  {
   "cell_type": "code",
   "execution_count": 24,
   "metadata": {},
   "outputs": [],
   "source": [
    "from hourly.hourly import get_work_commits, get_labor, get_earnings"
   ]
  },
  {
   "cell_type": "code",
   "execution_count": 25,
   "metadata": {},
   "outputs": [],
   "source": [
    "from hourly import hourly"
   ]
  },
  {
   "cell_type": "markdown",
   "metadata": {},
   "source": [
    "```get_work_commits``` gathers all commits into a pandas array"
   ]
  },
  {
   "cell_type": "code",
   "execution_count": 26,
   "metadata": {
    "scrolled": true
   },
   "outputs": [
    {
     "data": {
      "text/html": [
       "<div>\n",
       "<style scoped>\n",
       "    .dataframe tbody tr th:only-of-type {\n",
       "        vertical-align: middle;\n",
       "    }\n",
       "\n",
       "    .dataframe tbody tr th {\n",
       "        vertical-align: top;\n",
       "    }\n",
       "\n",
       "    .dataframe thead th {\n",
       "        text-align: right;\n",
       "    }\n",
       "</style>\n",
       "<table border=\"1\" class=\"dataframe\">\n",
       "  <thead>\n",
       "    <tr style=\"text-align: right;\">\n",
       "      <th></th>\n",
       "      <th>message</th>\n",
       "      <th>hash</th>\n",
       "    </tr>\n",
       "    <tr>\n",
       "      <th>time</th>\n",
       "      <th></th>\n",
       "      <th></th>\n",
       "    </tr>\n",
       "  </thead>\n",
       "  <tbody>\n",
       "    <tr>\n",
       "      <th>2018-10-19 23:40:41-04:00</th>\n",
       "      <td>Initial commit</td>\n",
       "      <td>ef5690543bfb354b9325d1fbd1f9abbafbb4d9a4</td>\n",
       "    </tr>\n",
       "    <tr>\n",
       "      <th>2018-10-19 23:57:48-04:00</th>\n",
       "      <td>clock in</td>\n",
       "      <td>5c8f05b57b739ec525291c248ea9200651b49997</td>\n",
       "    </tr>\n",
       "    <tr>\n",
       "      <th>2018-10-20 00:21:40-04:00</th>\n",
       "      <td>preparing setup.py</td>\n",
       "      <td>254ecdacb52fc70bc358f8d55be58df3b70c7609</td>\n",
       "    </tr>\n",
       "    <tr>\n",
       "      <th>2018-10-20 00:39:11-04:00</th>\n",
       "      <td>clock out - work done for the day</td>\n",
       "      <td>0e33fa3d74f663f954b05dd9f30e0128ca7af162</td>\n",
       "    </tr>\n",
       "    <tr>\n",
       "      <th>2018-10-20 01:06:08-04:00</th>\n",
       "      <td>clock in - start adding requirements and examp...</td>\n",
       "      <td>dc065b17337b14c2f8e0458de61e6880a338d6ae</td>\n",
       "    </tr>\n",
       "  </tbody>\n",
       "</table>\n",
       "</div>"
      ],
      "text/plain": [
       "                                                                     message                                      hash\n",
       "time                                                                                                                  \n",
       "2018-10-19 23:40:41-04:00                                     Initial commit  ef5690543bfb354b9325d1fbd1f9abbafbb4d9a4\n",
       "2018-10-19 23:57:48-04:00                                           clock in  5c8f05b57b739ec525291c248ea9200651b49997\n",
       "2018-10-20 00:21:40-04:00                                 preparing setup.py  254ecdacb52fc70bc358f8d55be58df3b70c7609\n",
       "2018-10-20 00:39:11-04:00                  clock out - work done for the day  0e33fa3d74f663f954b05dd9f30e0128ca7af162\n",
       "2018-10-20 01:06:08-04:00  clock in - start adding requirements and examp...  dc065b17337b14c2f8e0458de61e6880a338d6ae"
      ]
     },
     "execution_count": 26,
     "metadata": {},
     "output_type": "execute_result"
    }
   ],
   "source": [
    "work = hourly.get_work_commits('..')\n",
    "work.head()"
   ]
  },
  {
   "cell_type": "markdown",
   "metadata": {},
   "source": [
    "```get_labor``` calculates hours worked by differencing commit timestamps and raises an error if clock in and clock out are of different lengths."
   ]
  },
  {
   "cell_type": "markdown",
   "metadata": {},
   "source": [
    "### Getting time card"
   ]
  },
  {
   "cell_type": "code",
   "execution_count": 29,
   "metadata": {
    "scrolled": false
   },
   "outputs": [
    {
     "name": "stdout",
     "output_type": "stream",
     "text": [
      "pay period: 2018-10-19 23:57:48-04:00 -> 2018-10-20 02:11:54-04:00\n"
     ]
    },
    {
     "data": {
      "text/html": [
       "<div>\n",
       "<style scoped>\n",
       "    .dataframe tbody tr th:only-of-type {\n",
       "        vertical-align: middle;\n",
       "    }\n",
       "\n",
       "    .dataframe tbody tr th {\n",
       "        vertical-align: top;\n",
       "    }\n",
       "\n",
       "    .dataframe thead th {\n",
       "        text-align: right;\n",
       "    }\n",
       "</style>\n",
       "<table border=\"1\" class=\"dataframe\">\n",
       "  <thead>\n",
       "    <tr style=\"text-align: right;\">\n",
       "      <th></th>\n",
       "      <th>TimeIn</th>\n",
       "      <th>log in</th>\n",
       "      <th>TimeOut</th>\n",
       "      <th>log out</th>\n",
       "      <th>TimeDelta</th>\n",
       "    </tr>\n",
       "  </thead>\n",
       "  <tbody>\n",
       "    <tr>\n",
       "      <th>0</th>\n",
       "      <td>2018-10-19 23:57:48-04:00</td>\n",
       "      <td>clock in</td>\n",
       "      <td>2018-10-20 00:39:11-04:00</td>\n",
       "      <td>clock out - work done for the day</td>\n",
       "      <td>00:41:23</td>\n",
       "    </tr>\n",
       "    <tr>\n",
       "      <th>1</th>\n",
       "      <td>2018-10-20 01:06:08-04:00</td>\n",
       "      <td>clock in - start adding requirements and examp...</td>\n",
       "      <td>2018-10-20 01:47:01-04:00</td>\n",
       "      <td>clock out</td>\n",
       "      <td>00:40:53</td>\n",
       "    </tr>\n",
       "    <tr>\n",
       "      <th>2</th>\n",
       "      <td>2018-10-20 01:47:45-04:00</td>\n",
       "      <td>clock in - pro bono</td>\n",
       "      <td>2018-10-20 01:51:36-04:00</td>\n",
       "      <td>clock out - pro bono</td>\n",
       "      <td>00:03:51</td>\n",
       "    </tr>\n",
       "    <tr>\n",
       "      <th>3</th>\n",
       "      <td>2018-10-20 02:03:56-04:00</td>\n",
       "      <td>clock in - finishing tutorial</td>\n",
       "      <td>2018-10-20 02:11:54-04:00</td>\n",
       "      <td>clock out - converted notebook for README</td>\n",
       "      <td>00:07:58</td>\n",
       "    </tr>\n",
       "  </tbody>\n",
       "</table>\n",
       "</div>"
      ],
      "text/plain": [
       "                     TimeIn                                             log in                   TimeOut                                    log out TimeDelta\n",
       "0 2018-10-19 23:57:48-04:00                                           clock in 2018-10-20 00:39:11-04:00          clock out - work done for the day  00:41:23\n",
       "1 2018-10-20 01:06:08-04:00  clock in - start adding requirements and examp... 2018-10-20 01:47:01-04:00                                  clock out  00:40:53\n",
       "2 2018-10-20 01:47:45-04:00                                clock in - pro bono 2018-10-20 01:51:36-04:00                       clock out - pro bono  00:03:51\n",
       "3 2018-10-20 02:03:56-04:00                      clock in - finishing tutorial 2018-10-20 02:11:54-04:00  clock out - converted notebook for README  00:07:58"
      ]
     },
     "execution_count": 29,
     "metadata": {},
     "output_type": "execute_result"
    }
   ],
   "source": [
    "labor = hourly.get_labor(work, end_date='2018-10-20 02:11:54-04:00')\n",
    "labor"
   ]
  },
  {
   "cell_type": "code",
   "execution_count": 41,
   "metadata": {},
   "outputs": [
    {
     "data": {
      "text/plain": [
       "Timestamp('2018-10-19 23:57:48-0400', tz='US/Eastern')"
      ]
     },
     "execution_count": 41,
     "metadata": {},
     "output_type": "execute_result"
    }
   ],
   "source": [
    "tstart, tend = labor.iloc[[0,-1]].TimeIn\n",
    "tstart"
   ]
  },
  {
   "cell_type": "markdown",
   "metadata": {},
   "source": [
    "### Handling errant clock in/out messages\n",
    "If you mistakenly put \"clock out\" in a message, hourly will interpret the message as a legitimate end time. This will likely raise an error when computing the labor. For example, there is a problematic commit in the this repo's history:"
   ]
  },
  {
   "cell_type": "code",
   "execution_count": 6,
   "metadata": {},
   "outputs": [
    {
     "data": {
      "text/html": [
       "<div>\n",
       "<style scoped>\n",
       "    .dataframe tbody tr th:only-of-type {\n",
       "        vertical-align: middle;\n",
       "    }\n",
       "\n",
       "    .dataframe tbody tr th {\n",
       "        vertical-align: top;\n",
       "    }\n",
       "\n",
       "    .dataframe thead th {\n",
       "        text-align: right;\n",
       "    }\n",
       "</style>\n",
       "<table border=\"1\" class=\"dataframe\">\n",
       "  <thead>\n",
       "    <tr style=\"text-align: right;\">\n",
       "      <th></th>\n",
       "      <th>message</th>\n",
       "      <th>hash</th>\n",
       "    </tr>\n",
       "    <tr>\n",
       "      <th>time</th>\n",
       "      <th></th>\n",
       "      <th></th>\n",
       "    </tr>\n",
       "  </thead>\n",
       "  <tbody>\n",
       "    <tr>\n",
       "      <th>2018-10-20 02:14:21-04:00</th>\n",
       "      <td>had to clock out so notebook examples don't break</td>\n",
       "      <td>d9ec537b36475b565df6b28d0cab6edc3a89f2da</td>\n",
       "    </tr>\n",
       "  </tbody>\n",
       "</table>\n",
       "</div>"
      ],
      "text/plain": [
       "                                                                     message                                      hash\n",
       "time                                                                                                                  \n",
       "2018-10-20 02:14:21-04:00  had to clock out so notebook examples don't break  d9ec537b36475b565df6b28d0cab6edc3a89f2da"
      ]
     },
     "execution_count": 6,
     "metadata": {},
     "output_type": "execute_result"
    }
   ],
   "source": [
    "problematic_commit = work[work.hash == 'd9ec537b36475b565df6b28d0cab6edc3a89f2da']\n",
    "problematic_commit"
   ]
  },
  {
   "cell_type": "markdown",
   "metadata": {},
   "source": [
    "When we include this in our labor calculation, we get the following error:"
   ]
  },
  {
   "cell_type": "code",
   "execution_count": 16,
   "metadata": {},
   "outputs": [
    {
     "name": "stdout",
     "output_type": "stream",
     "text": [
      "pay period: 2018-10-19 23:57:48-04:00 -> 2018-10-20 13:16:13-04:00\n",
      "In/Out logs do not match\n"
     ]
    }
   ],
   "source": [
    "try:\n",
    "    hourly.get_labor(work, end_date = '2018-10-20 13:16:13-04:00')\n",
    "except ValueError as e:\n",
    "    print(e)"
   ]
  },
  {
   "cell_type": "markdown",
   "metadata": {},
   "source": [
    "We can skip this errant commit by setting ```errant_clocks```"
   ]
  },
  {
   "cell_type": "code",
   "execution_count": 17,
   "metadata": {},
   "outputs": [
    {
     "name": "stdout",
     "output_type": "stream",
     "text": [
      "pay period: 2018-10-19 23:57:48-04:00 -> 2018-10-20 13:16:13-04:00\n"
     ]
    },
    {
     "data": {
      "text/html": [
       "<div>\n",
       "<style scoped>\n",
       "    .dataframe tbody tr th:only-of-type {\n",
       "        vertical-align: middle;\n",
       "    }\n",
       "\n",
       "    .dataframe tbody tr th {\n",
       "        vertical-align: top;\n",
       "    }\n",
       "\n",
       "    .dataframe thead th {\n",
       "        text-align: right;\n",
       "    }\n",
       "</style>\n",
       "<table border=\"1\" class=\"dataframe\">\n",
       "  <thead>\n",
       "    <tr style=\"text-align: right;\">\n",
       "      <th></th>\n",
       "      <th>TimeIn</th>\n",
       "      <th>log in</th>\n",
       "      <th>TimeOut</th>\n",
       "      <th>log out</th>\n",
       "      <th>TimeDelta</th>\n",
       "    </tr>\n",
       "  </thead>\n",
       "  <tbody>\n",
       "    <tr>\n",
       "      <th>0</th>\n",
       "      <td>2018-10-19 23:57:48-04:00</td>\n",
       "      <td>clock in</td>\n",
       "      <td>2018-10-20 00:39:11-04:00</td>\n",
       "      <td>clock out - work done for the day</td>\n",
       "      <td>00:41:23</td>\n",
       "    </tr>\n",
       "    <tr>\n",
       "      <th>1</th>\n",
       "      <td>2018-10-20 01:06:08-04:00</td>\n",
       "      <td>clock in - start adding requirements and examp...</td>\n",
       "      <td>2018-10-20 01:47:01-04:00</td>\n",
       "      <td>clock out</td>\n",
       "      <td>00:40:53</td>\n",
       "    </tr>\n",
       "    <tr>\n",
       "      <th>2</th>\n",
       "      <td>2018-10-20 01:47:45-04:00</td>\n",
       "      <td>clock in - pro bono</td>\n",
       "      <td>2018-10-20 01:51:36-04:00</td>\n",
       "      <td>clock out - pro bono</td>\n",
       "      <td>00:03:51</td>\n",
       "    </tr>\n",
       "    <tr>\n",
       "      <th>3</th>\n",
       "      <td>2018-10-20 02:03:56-04:00</td>\n",
       "      <td>clock in - finishing tutorial</td>\n",
       "      <td>2018-10-20 02:11:54-04:00</td>\n",
       "      <td>clock out - converted notebook for README</td>\n",
       "      <td>00:07:58</td>\n",
       "    </tr>\n",
       "    <tr>\n",
       "      <th>4</th>\n",
       "      <td>2018-10-20 11:53:00-04:00</td>\n",
       "      <td>clock in - handling errant messages</td>\n",
       "      <td>2018-10-20 13:16:13-04:00</td>\n",
       "      <td>clock out - converting to pd.Timestamp</td>\n",
       "      <td>01:23:13</td>\n",
       "    </tr>\n",
       "  </tbody>\n",
       "</table>\n",
       "</div>"
      ],
      "text/plain": [
       "                     TimeIn                                             log in                   TimeOut                                    log out TimeDelta\n",
       "0 2018-10-19 23:57:48-04:00                                           clock in 2018-10-20 00:39:11-04:00          clock out - work done for the day  00:41:23\n",
       "1 2018-10-20 01:06:08-04:00  clock in - start adding requirements and examp... 2018-10-20 01:47:01-04:00                                  clock out  00:40:53\n",
       "2 2018-10-20 01:47:45-04:00                                clock in - pro bono 2018-10-20 01:51:36-04:00                       clock out - pro bono  00:03:51\n",
       "3 2018-10-20 02:03:56-04:00                      clock in - finishing tutorial 2018-10-20 02:11:54-04:00  clock out - converted notebook for README  00:07:58\n",
       "4 2018-10-20 11:53:00-04:00                clock in - handling errant messages 2018-10-20 13:16:13-04:00     clock out - converting to pd.Timestamp  01:23:13"
      ]
     },
     "execution_count": 17,
     "metadata": {},
     "output_type": "execute_result"
    }
   ],
   "source": [
    "hourly.get_labor(work, end_date = '2018-10-20 13:16:13-04:00', \n",
    "          errant_clocks = ['d9ec537b36475b565df6b28d0cab6edc3a89f2da'])"
   ]
  },
  {
   "cell_type": "markdown",
   "metadata": {},
   "source": [
    "### Filtering work session keywords\n",
    "\n",
    "Use the \"ignore\" key word to skip any work you don't want to include in your invoices."
   ]
  },
  {
   "cell_type": "code",
   "execution_count": 44,
   "metadata": {},
   "outputs": [
    {
     "name": "stdout",
     "output_type": "stream",
     "text": [
      "pay period: 2018-10-19 23:57:48-04:00 -> 2018-10-20 13:16:13-04:00\n",
      "ignoring pro bono\n"
     ]
    },
    {
     "data": {
      "text/html": [
       "<div>\n",
       "<style scoped>\n",
       "    .dataframe tbody tr th:only-of-type {\n",
       "        vertical-align: middle;\n",
       "    }\n",
       "\n",
       "    .dataframe tbody tr th {\n",
       "        vertical-align: top;\n",
       "    }\n",
       "\n",
       "    .dataframe thead th {\n",
       "        text-align: right;\n",
       "    }\n",
       "</style>\n",
       "<table border=\"1\" class=\"dataframe\">\n",
       "  <thead>\n",
       "    <tr style=\"text-align: right;\">\n",
       "      <th></th>\n",
       "      <th>TimeIn</th>\n",
       "      <th>log in</th>\n",
       "      <th>TimeOut</th>\n",
       "      <th>log out</th>\n",
       "      <th>TimeDelta</th>\n",
       "    </tr>\n",
       "  </thead>\n",
       "  <tbody>\n",
       "    <tr>\n",
       "      <th>0</th>\n",
       "      <td>2018-10-19 23:57:48-04:00</td>\n",
       "      <td>clock in</td>\n",
       "      <td>2018-10-20 00:39:11-04:00</td>\n",
       "      <td>clock out - work done for the day</td>\n",
       "      <td>00:41:23</td>\n",
       "    </tr>\n",
       "    <tr>\n",
       "      <th>1</th>\n",
       "      <td>2018-10-20 01:06:08-04:00</td>\n",
       "      <td>clock in - start adding requirements and examp...</td>\n",
       "      <td>2018-10-20 01:47:01-04:00</td>\n",
       "      <td>clock out</td>\n",
       "      <td>00:40:53</td>\n",
       "    </tr>\n",
       "    <tr>\n",
       "      <th>3</th>\n",
       "      <td>2018-10-20 02:03:56-04:00</td>\n",
       "      <td>clock in - finishing tutorial</td>\n",
       "      <td>2018-10-20 02:11:54-04:00</td>\n",
       "      <td>clock out - converted notebook for README</td>\n",
       "      <td>00:07:58</td>\n",
       "    </tr>\n",
       "    <tr>\n",
       "      <th>4</th>\n",
       "      <td>2018-10-20 11:53:00-04:00</td>\n",
       "      <td>clock in - handling errant messages</td>\n",
       "      <td>2018-10-20 13:16:13-04:00</td>\n",
       "      <td>clock out - converting to pd.Timestamp</td>\n",
       "      <td>01:23:13</td>\n",
       "    </tr>\n",
       "  </tbody>\n",
       "</table>\n",
       "</div>"
      ],
      "text/plain": [
       "                     TimeIn                                             log in                   TimeOut                                    log out TimeDelta\n",
       "0 2018-10-19 23:57:48-04:00                                           clock in 2018-10-20 00:39:11-04:00          clock out - work done for the day  00:41:23\n",
       "1 2018-10-20 01:06:08-04:00  clock in - start adding requirements and examp... 2018-10-20 01:47:01-04:00                                  clock out  00:40:53\n",
       "3 2018-10-20 02:03:56-04:00                      clock in - finishing tutorial 2018-10-20 02:11:54-04:00  clock out - converted notebook for README  00:07:58\n",
       "4 2018-10-20 11:53:00-04:00                clock in - handling errant messages 2018-10-20 13:16:13-04:00     clock out - converting to pd.Timestamp  01:23:13"
      ]
     },
     "execution_count": 44,
     "metadata": {},
     "output_type": "execute_result"
    }
   ],
   "source": [
    "labor = hourly.get_labor(work, \n",
    "            ignore = 'pro bono', \n",
    "            end_date = '2018-10-20 13:16:13-04:00',\n",
    "            errant_clocks = ['d9ec537b36475b565df6b28d0cab6edc3a89f2da'])\n",
    "labor"
   ]
  },
  {
   "cell_type": "markdown",
   "metadata": {},
   "source": [
    "## Get total earnings\n",
    "\n",
    "Total earnings can be found using this function. Currency is just a string for printing, but in the future we can add unit conversion."
   ]
  },
  {
   "cell_type": "code",
   "execution_count": 19,
   "metadata": {},
   "outputs": [
    {
     "name": "stdout",
     "output_type": "stream",
     "text": [
      "0 days 02:53:27, 2.89 hours worked\n",
      "86.72 USD\n"
     ]
    },
    {
     "data": {
      "text/plain": [
       "86.72"
      ]
     },
     "execution_count": 19,
     "metadata": {},
     "output_type": "execute_result"
    }
   ],
   "source": [
    "hourly.get_earnings(labor, wage = 30, currency = 'USD')"
   ]
  },
  {
   "cell_type": "markdown",
   "metadata": {},
   "source": [
    "# Time adjustment\n",
    "\n",
    "If you forget to clock in or clock out, you can correct your time sheet by adjusting your clock time. By default, Hourly adjusts time stamps automatically when a commit message contains the keyword \"T-\". Set ```correct_times``` to false to override this behavior."
   ]
  },
  {
   "cell_type": "code",
   "execution_count": 21,
   "metadata": {},
   "outputs": [
    {
     "data": {
      "text/html": [
       "<div>\n",
       "<style scoped>\n",
       "    .dataframe tbody tr th:only-of-type {\n",
       "        vertical-align: middle;\n",
       "    }\n",
       "\n",
       "    .dataframe tbody tr th {\n",
       "        vertical-align: top;\n",
       "    }\n",
       "\n",
       "    .dataframe thead th {\n",
       "        text-align: right;\n",
       "    }\n",
       "</style>\n",
       "<table border=\"1\" class=\"dataframe\">\n",
       "  <thead>\n",
       "    <tr style=\"text-align: right;\">\n",
       "      <th></th>\n",
       "      <th>message</th>\n",
       "      <th>hash</th>\n",
       "    </tr>\n",
       "    <tr>\n",
       "      <th>time</th>\n",
       "      <th></th>\n",
       "      <th></th>\n",
       "    </tr>\n",
       "  </thead>\n",
       "  <tbody>\n",
       "    <tr>\n",
       "      <th>2019-02-25 11:19:10-05:00</th>\n",
       "      <td>clock in T-1hr</td>\n",
       "      <td>d7add63b4d2e3e1ca1423296aaed25d9c28944da</td>\n",
       "    </tr>\n",
       "    <tr>\n",
       "      <th>2019-02-25 12:54:51-05:00</th>\n",
       "      <td>clock out T-5m</td>\n",
       "      <td>acfb8596317786e38177345aa2531098043a5c49</td>\n",
       "    </tr>\n",
       "  </tbody>\n",
       "</table>\n",
       "</div>"
      ],
      "text/plain": [
       "                                  message                                      hash\n",
       "time                                                                               \n",
       "2019-02-25 11:19:10-05:00  clock in T-1hr  d7add63b4d2e3e1ca1423296aaed25d9c28944da\n",
       "2019-02-25 12:54:51-05:00  clock out T-5m  acfb8596317786e38177345aa2531098043a5c49"
      ]
     },
     "execution_count": 21,
     "metadata": {},
     "output_type": "execute_result"
    }
   ],
   "source": [
    "work = hourly.get_work_commits('..', correct_times=False) # reports the actual time of the commit\n",
    "work = work[work.message.str.contains('T-')] #filter by T-\n",
    "work"
   ]
  },
  {
   "cell_type": "code",
   "execution_count": 22,
   "metadata": {},
   "outputs": [
    {
     "data": {
      "text/html": [
       "<div>\n",
       "<style scoped>\n",
       "    .dataframe tbody tr th:only-of-type {\n",
       "        vertical-align: middle;\n",
       "    }\n",
       "\n",
       "    .dataframe tbody tr th {\n",
       "        vertical-align: top;\n",
       "    }\n",
       "\n",
       "    .dataframe thead th {\n",
       "        text-align: right;\n",
       "    }\n",
       "</style>\n",
       "<table border=\"1\" class=\"dataframe\">\n",
       "  <thead>\n",
       "    <tr style=\"text-align: right;\">\n",
       "      <th></th>\n",
       "      <th>message</th>\n",
       "      <th>hash</th>\n",
       "    </tr>\n",
       "    <tr>\n",
       "      <th>time</th>\n",
       "      <th></th>\n",
       "      <th></th>\n",
       "    </tr>\n",
       "  </thead>\n",
       "  <tbody>\n",
       "    <tr>\n",
       "      <th>2019-02-25 10:19:10-05:00</th>\n",
       "      <td>clock in T-1hr</td>\n",
       "      <td>d7add63b4d2e3e1ca1423296aaed25d9c28944da</td>\n",
       "    </tr>\n",
       "    <tr>\n",
       "      <th>2019-02-25 12:49:51-05:00</th>\n",
       "      <td>clock out T-5m</td>\n",
       "      <td>acfb8596317786e38177345aa2531098043a5c49</td>\n",
       "    </tr>\n",
       "  </tbody>\n",
       "</table>\n",
       "</div>"
      ],
      "text/plain": [
       "                                  message                                      hash\n",
       "time                                                                               \n",
       "2019-02-25 10:19:10-05:00  clock in T-1hr  d7add63b4d2e3e1ca1423296aaed25d9c28944da\n",
       "2019-02-25 12:49:51-05:00  clock out T-5m  acfb8596317786e38177345aa2531098043a5c49"
      ]
     },
     "execution_count": 22,
     "metadata": {},
     "output_type": "execute_result"
    }
   ],
   "source": [
    "work = get_work_commits('..') # reports actual work time, according to commit message\n",
    "work = work[work.message.str.contains('T-')] #filter by T-\n",
    "work"
   ]
  },
  {
   "cell_type": "markdown",
   "metadata": {},
   "source": [
    "!!! Note\n",
    "    Only time subtractions are supported for now.\n",
    "\n",
    "!!! Tip Time delta formats\n",
    "    Hourly uses pandas' Timedelta format to modify times. This allows for syntax like ```clock in T-1hr45```"
   ]
  },
  {
   "cell_type": "code",
   "execution_count": null,
   "metadata": {},
   "outputs": [],
   "source": []
  }
 ],
 "metadata": {
  "kernelspec": {
   "display_name": "Python 3",
   "language": "python",
   "name": "python3"
  },
  "language_info": {
   "codemirror_mode": {
    "name": "ipython",
    "version": 3
   },
   "file_extension": ".py",
   "mimetype": "text/x-python",
   "name": "python",
   "nbconvert_exporter": "python",
   "pygments_lexer": "ipython3",
   "version": "3.6.8"
  }
 },
 "nbformat": 4,
 "nbformat_minor": 2
}
