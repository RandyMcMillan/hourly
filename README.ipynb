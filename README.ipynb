{
 "cells": [
  {
   "cell_type": "code",
   "execution_count": 1,
   "metadata": {},
   "outputs": [],
   "source": [
    "%load_ext autoreload\n",
    "\n",
    "%autoreload 2"
   ]
  },
  {
   "cell_type": "markdown",
   "metadata": {},
   "source": [
    "# Hourly\n",
    "A simple hour tracker for git projects. ```hourly``` parses your commit messages for \"clock in/out\" keywords and uses their unix timestamps to precisely calculate work hours.\n",
    "\n",
    "\n",
    "## Getting Started\n",
    "\n",
    "## Install\n",
    "\n",
    "    pip install hourly\n",
    "\n",
    "\n",
    "### Requirements\n",
    "\n",
    "\tpandas\n",
    "    gitpython\n",
    "\n",
    "### Usage\n",
    "\n",
    "Hourly will look for key words for clocking in/out.\n",
    "\n",
    "To clock in:\n",
    "\n",
    "    git commit -m \"clock in - starting work on new feature\"\n",
    "\n",
    "do stuff as usual, then clock out\n",
    "\n",
    "    git commit -m \"clock out - finished feature\"\n"
   ]
  },
  {
   "cell_type": "code",
   "execution_count": 2,
   "metadata": {},
   "outputs": [
    {
     "name": "stderr",
     "output_type": "stream",
     "text": [
      "Python 2.7.15 :: Anaconda, Inc.\n"
     ]
    }
   ],
   "source": [
    "!python --version"
   ]
  },
  {
   "cell_type": "code",
   "execution_count": 3,
   "metadata": {},
   "outputs": [],
   "source": [
    "from hourly.hourly import get_work_commits, get_labor, get_pay_usd"
   ]
  },
  {
   "cell_type": "markdown",
   "metadata": {},
   "source": [
    "```get_work_commits``` finds all the commits with keyword ```clock```"
   ]
  },
  {
   "cell_type": "code",
   "execution_count": 4,
   "metadata": {},
   "outputs": [],
   "source": [
    "import git"
   ]
  },
  {
   "cell_type": "code",
   "execution_count": 6,
   "metadata": {},
   "outputs": [
    {
     "data": {
      "text/html": [
       "<div>\n",
       "<style scoped>\n",
       "    .dataframe tbody tr th:only-of-type {\n",
       "        vertical-align: middle;\n",
       "    }\n",
       "\n",
       "    .dataframe tbody tr th {\n",
       "        vertical-align: top;\n",
       "    }\n",
       "\n",
       "    .dataframe thead th {\n",
       "        text-align: right;\n",
       "    }\n",
       "</style>\n",
       "<table border=\"1\" class=\"dataframe\">\n",
       "  <thead>\n",
       "    <tr style=\"text-align: right;\">\n",
       "      <th></th>\n",
       "      <th>message</th>\n",
       "    </tr>\n",
       "    <tr>\n",
       "      <th>time</th>\n",
       "      <th></th>\n",
       "    </tr>\n",
       "  </thead>\n",
       "  <tbody>\n",
       "    <tr>\n",
       "      <th>2018-10-19 23:40:41-04:00</th>\n",
       "      <td>Initial commit</td>\n",
       "    </tr>\n",
       "    <tr>\n",
       "      <th>2018-10-19 23:57:48-04:00</th>\n",
       "      <td>clock in\\n</td>\n",
       "    </tr>\n",
       "    <tr>\n",
       "      <th>2018-10-20 00:21:40-04:00</th>\n",
       "      <td>preparing setup.py\\n</td>\n",
       "    </tr>\n",
       "    <tr>\n",
       "      <th>2018-10-20 00:39:11-04:00</th>\n",
       "      <td>clock out - work done for the day\\n</td>\n",
       "    </tr>\n",
       "    <tr>\n",
       "      <th>2018-10-20 01:06:08-04:00</th>\n",
       "      <td>clock in - start adding requirements and examp...</td>\n",
       "    </tr>\n",
       "  </tbody>\n",
       "</table>\n",
       "</div>"
      ],
      "text/plain": [
       "                                                                     message\n",
       "time                                                                        \n",
       "2018-10-19 23:40:41-04:00                                     Initial commit\n",
       "2018-10-19 23:57:48-04:00                                         clock in\\n\n",
       "2018-10-20 00:21:40-04:00                               preparing setup.py\\n\n",
       "2018-10-20 00:39:11-04:00                clock out - work done for the day\\n\n",
       "2018-10-20 01:06:08-04:00  clock in - start adding requirements and examp..."
      ]
     },
     "execution_count": 6,
     "metadata": {},
     "output_type": "execute_result"
    }
   ],
   "source": [
    "work = get_work_commits('.')\n",
    "work"
   ]
  },
  {
   "cell_type": "markdown",
   "metadata": {},
   "source": [
    "```get_labor``` calculates hours worked based on commit timestamps.\n",
    "\n",
    "*Note: ```get_labor``` raises an error if clock in and clock out are of different lengths *"
   ]
  },
  {
   "cell_type": "code",
   "execution_count": 7,
   "metadata": {},
   "outputs": [
    {
     "name": "stdout",
     "output_type": "stream",
     "text": [
      "pay period: 2018-10-19 23:57:48-04:00 -> 2018-10-20 01:06:08-04:00\n",
      "In/Out logs do not match\n"
     ]
    }
   ],
   "source": [
    "try:\n",
    "    get_labor(work)\n",
    "except ValueError as e:\n",
    "    print e"
   ]
  },
  {
   "cell_type": "code",
   "execution_count": 8,
   "metadata": {},
   "outputs": [],
   "source": [
    "get_labor?"
   ]
  },
  {
   "cell_type": "code",
   "execution_count": null,
   "metadata": {},
   "outputs": [],
   "source": []
  }
 ],
 "metadata": {
  "kernelspec": {
   "display_name": "Python 2",
   "language": "python",
   "name": "python2"
  },
  "language_info": {
   "codemirror_mode": {
    "name": "ipython",
    "version": 2
   },
   "file_extension": ".py",
   "mimetype": "text/x-python",
   "name": "python",
   "nbconvert_exporter": "python",
   "pygments_lexer": "ipython2",
   "version": "2.7.15"
  }
 },
 "nbformat": 4,
 "nbformat_minor": 2
}
