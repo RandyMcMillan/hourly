{
 "cells": [
  {
   "cell_type": "code",
   "execution_count": 1,
   "metadata": {},
   "outputs": [],
   "source": [
    "%load_ext autoreload\n",
    "\n",
    "%autoreload 2"
   ]
  },
  {
   "cell_type": "markdown",
   "metadata": {},
   "source": [
    "# Hourly\n",
    "A simple hour tracker for git projects. ```hourly``` parses your commit messages for \"clock in/out\" keywords and uses their unix timestamps to precisely calculate work hours.\n",
    "\n",
    "\n",
    "## Getting Started\n",
    "\n",
    "## Install\n",
    "\n",
    "    pip install hourly\n",
    "\n",
    "\n",
    "### Requirements\n",
    "\n",
    "\tpandas\n",
    "    gitpython\n",
    "\n",
    "### Usage\n",
    "\n",
    "Hourly will look for key words for clocking in/out.\n",
    "\n",
    "To clock in:\n",
    "\n",
    "    git commit -m \"clock in - starting work on new feature\"\n",
    "\n",
    "do stuff as usual, then clock out\n",
    "\n",
    "    git commit -m \"clock out - finished feature\"\n"
   ]
  },
  {
   "cell_type": "markdown",
   "metadata": {},
   "source": [
    "# Example Usage\n",
    "\n",
    "We can illustrate how to use hourly on the hourly repo itself.\n",
    "\n",
    "    git clone https://github.com/asherp/hourly.git\n",
    "    cd hourly"
   ]
  },
  {
   "cell_type": "code",
   "execution_count": 3,
   "metadata": {},
   "outputs": [],
   "source": [
    "from hourly.hourly import get_work_commits, get_labor, get_pay_usd"
   ]
  },
  {
   "cell_type": "markdown",
   "metadata": {},
   "source": [
    "```get_work_commits``` gathers all commits into a pandas array"
   ]
  },
  {
   "cell_type": "code",
   "execution_count": 14,
   "metadata": {},
   "outputs": [
    {
     "data": {
      "text/html": [
       "<div>\n",
       "<style scoped>\n",
       "    .dataframe tbody tr th:only-of-type {\n",
       "        vertical-align: middle;\n",
       "    }\n",
       "\n",
       "    .dataframe tbody tr th {\n",
       "        vertical-align: top;\n",
       "    }\n",
       "\n",
       "    .dataframe thead th {\n",
       "        text-align: right;\n",
       "    }\n",
       "</style>\n",
       "<table border=\"1\" class=\"dataframe\">\n",
       "  <thead>\n",
       "    <tr style=\"text-align: right;\">\n",
       "      <th></th>\n",
       "      <th>message</th>\n",
       "    </tr>\n",
       "    <tr>\n",
       "      <th>time</th>\n",
       "      <th></th>\n",
       "    </tr>\n",
       "  </thead>\n",
       "  <tbody>\n",
       "    <tr>\n",
       "      <th>2018-10-19 23:40:41-04:00</th>\n",
       "      <td>Initial commit</td>\n",
       "    </tr>\n",
       "    <tr>\n",
       "      <th>2018-10-19 23:57:48-04:00</th>\n",
       "      <td>clock in\\n</td>\n",
       "    </tr>\n",
       "    <tr>\n",
       "      <th>2018-10-20 00:21:40-04:00</th>\n",
       "      <td>preparing setup.py\\n</td>\n",
       "    </tr>\n",
       "    <tr>\n",
       "      <th>2018-10-20 00:39:11-04:00</th>\n",
       "      <td>clock out - work done for the day\\n</td>\n",
       "    </tr>\n",
       "    <tr>\n",
       "      <th>2018-10-20 01:06:08-04:00</th>\n",
       "      <td>clock in - start adding requirements and examp...</td>\n",
       "    </tr>\n",
       "    <tr>\n",
       "      <th>2018-10-20 01:47:01-04:00</th>\n",
       "      <td>clock out\\n</td>\n",
       "    </tr>\n",
       "    <tr>\n",
       "      <th>2018-10-20 01:47:45-04:00</th>\n",
       "      <td>clock in - pro bono\\n</td>\n",
       "    </tr>\n",
       "    <tr>\n",
       "      <th>2018-10-20 01:51:36-04:00</th>\n",
       "      <td>clock out - pro bono\\n</td>\n",
       "    </tr>\n",
       "  </tbody>\n",
       "</table>\n",
       "</div>"
      ],
      "text/plain": [
       "                                                                     message\n",
       "time                                                                        \n",
       "2018-10-19 23:40:41-04:00                                     Initial commit\n",
       "2018-10-19 23:57:48-04:00                                         clock in\\n\n",
       "2018-10-20 00:21:40-04:00                               preparing setup.py\\n\n",
       "2018-10-20 00:39:11-04:00                clock out - work done for the day\\n\n",
       "2018-10-20 01:06:08-04:00  clock in - start adding requirements and examp...\n",
       "2018-10-20 01:47:01-04:00                                        clock out\\n\n",
       "2018-10-20 01:47:45-04:00                              clock in - pro bono\\n\n",
       "2018-10-20 01:51:36-04:00                             clock out - pro bono\\n"
      ]
     },
     "execution_count": 14,
     "metadata": {},
     "output_type": "execute_result"
    }
   ],
   "source": [
    "work = get_work_commits('.')\n",
    "work"
   ]
  },
  {
   "cell_type": "markdown",
   "metadata": {},
   "source": [
    "```get_labor``` calculates hours worked by differencing commit timestamps. \n",
    "*Note: ```get_labor``` raises an error if clock in and clock out are of different lengths *"
   ]
  },
  {
   "cell_type": "markdown",
   "metadata": {},
   "source": [
    "### Getting time card"
   ]
  },
  {
   "cell_type": "code",
   "execution_count": 20,
   "metadata": {},
   "outputs": [
    {
     "name": "stdout",
     "output_type": "stream",
     "text": [
      "pay period: 2018-10-19 23:57:48-04:00 -> 2018-10-20 01:51:36-04:00\n"
     ]
    },
    {
     "data": {
      "text/html": [
       "<div>\n",
       "<style scoped>\n",
       "    .dataframe tbody tr th:only-of-type {\n",
       "        vertical-align: middle;\n",
       "    }\n",
       "\n",
       "    .dataframe tbody tr th {\n",
       "        vertical-align: top;\n",
       "    }\n",
       "\n",
       "    .dataframe thead th {\n",
       "        text-align: right;\n",
       "    }\n",
       "</style>\n",
       "<table border=\"1\" class=\"dataframe\">\n",
       "  <thead>\n",
       "    <tr style=\"text-align: right;\">\n",
       "      <th></th>\n",
       "      <th>TimeIn</th>\n",
       "      <th>log in</th>\n",
       "      <th>TimeOut</th>\n",
       "      <th>log out</th>\n",
       "      <th>TimeDelta</th>\n",
       "    </tr>\n",
       "  </thead>\n",
       "  <tbody>\n",
       "    <tr>\n",
       "      <th>0</th>\n",
       "      <td>2018-10-19 23:57:48-04:00</td>\n",
       "      <td>clock in\\n</td>\n",
       "      <td>2018-10-20 00:39:11-04:00</td>\n",
       "      <td>clock out - work done for the day\\n</td>\n",
       "      <td>00:41:23</td>\n",
       "    </tr>\n",
       "    <tr>\n",
       "      <th>1</th>\n",
       "      <td>2018-10-20 01:06:08-04:00</td>\n",
       "      <td>clock in - start adding requirements and examp...</td>\n",
       "      <td>2018-10-20 01:47:01-04:00</td>\n",
       "      <td>clock out\\n</td>\n",
       "      <td>00:40:53</td>\n",
       "    </tr>\n",
       "    <tr>\n",
       "      <th>2</th>\n",
       "      <td>2018-10-20 01:47:45-04:00</td>\n",
       "      <td>clock in - pro bono\\n</td>\n",
       "      <td>2018-10-20 01:51:36-04:00</td>\n",
       "      <td>clock out - pro bono\\n</td>\n",
       "      <td>00:03:51</td>\n",
       "    </tr>\n",
       "  </tbody>\n",
       "</table>\n",
       "</div>"
      ],
      "text/plain": [
       "                      TimeIn  \\\n",
       "0  2018-10-19 23:57:48-04:00   \n",
       "1  2018-10-20 01:06:08-04:00   \n",
       "2  2018-10-20 01:47:45-04:00   \n",
       "\n",
       "                                              log in  \\\n",
       "0                                         clock in\\n   \n",
       "1  clock in - start adding requirements and examp...   \n",
       "2                              clock in - pro bono\\n   \n",
       "\n",
       "                     TimeOut                              log out TimeDelta  \n",
       "0  2018-10-20 00:39:11-04:00  clock out - work done for the day\\n  00:41:23  \n",
       "1  2018-10-20 01:47:01-04:00                          clock out\\n  00:40:53  \n",
       "2  2018-10-20 01:51:36-04:00               clock out - pro bono\\n  00:03:51  "
      ]
     },
     "execution_count": 20,
     "metadata": {},
     "output_type": "execute_result"
    }
   ],
   "source": [
    "get_labor(work)"
   ]
  },
  {
   "cell_type": "markdown",
   "metadata": {},
   "source": [
    "### Filtering out keywords\n",
    "\n",
    "Use the \"ignore\" key word to skip any work you don't want to include in your invoices."
   ]
  },
  {
   "cell_type": "code",
   "execution_count": 21,
   "metadata": {},
   "outputs": [
    {
     "name": "stdout",
     "output_type": "stream",
     "text": [
      "pay period: 2018-10-19 23:57:48-04:00 -> 2018-10-20 01:51:36-04:00\n",
      "ignoring pro bono\n"
     ]
    },
    {
     "data": {
      "text/html": [
       "<div>\n",
       "<style scoped>\n",
       "    .dataframe tbody tr th:only-of-type {\n",
       "        vertical-align: middle;\n",
       "    }\n",
       "\n",
       "    .dataframe tbody tr th {\n",
       "        vertical-align: top;\n",
       "    }\n",
       "\n",
       "    .dataframe thead th {\n",
       "        text-align: right;\n",
       "    }\n",
       "</style>\n",
       "<table border=\"1\" class=\"dataframe\">\n",
       "  <thead>\n",
       "    <tr style=\"text-align: right;\">\n",
       "      <th></th>\n",
       "      <th>TimeIn</th>\n",
       "      <th>log in</th>\n",
       "      <th>TimeOut</th>\n",
       "      <th>log out</th>\n",
       "      <th>TimeDelta</th>\n",
       "    </tr>\n",
       "  </thead>\n",
       "  <tbody>\n",
       "    <tr>\n",
       "      <th>0</th>\n",
       "      <td>2018-10-19 23:57:48-04:00</td>\n",
       "      <td>clock in\\n</td>\n",
       "      <td>2018-10-20 00:39:11-04:00</td>\n",
       "      <td>clock out - work done for the day\\n</td>\n",
       "      <td>00:41:23</td>\n",
       "    </tr>\n",
       "    <tr>\n",
       "      <th>1</th>\n",
       "      <td>2018-10-20 01:06:08-04:00</td>\n",
       "      <td>clock in - start adding requirements and examp...</td>\n",
       "      <td>2018-10-20 01:47:01-04:00</td>\n",
       "      <td>clock out\\n</td>\n",
       "      <td>00:40:53</td>\n",
       "    </tr>\n",
       "  </tbody>\n",
       "</table>\n",
       "</div>"
      ],
      "text/plain": [
       "                      TimeIn  \\\n",
       "0  2018-10-19 23:57:48-04:00   \n",
       "1  2018-10-20 01:06:08-04:00   \n",
       "\n",
       "                                              log in  \\\n",
       "0                                         clock in\\n   \n",
       "1  clock in - start adding requirements and examp...   \n",
       "\n",
       "                     TimeOut                              log out TimeDelta  \n",
       "0  2018-10-20 00:39:11-04:00  clock out - work done for the day\\n  00:41:23  \n",
       "1  2018-10-20 01:47:01-04:00                          clock out\\n  00:40:53  "
      ]
     },
     "execution_count": 21,
     "metadata": {},
     "output_type": "execute_result"
    }
   ],
   "source": [
    "get_labor(work, ignore = 'pro bono')"
   ]
  },
  {
   "cell_type": "code",
   "execution_count": null,
   "metadata": {},
   "outputs": [],
   "source": []
  }
 ],
 "metadata": {
  "kernelspec": {
   "display_name": "Python 2",
   "language": "python",
   "name": "python2"
  },
  "language_info": {
   "codemirror_mode": {
    "name": "ipython",
    "version": 2
   },
   "file_extension": ".py",
   "mimetype": "text/x-python",
   "name": "python",
   "nbconvert_exporter": "python",
   "pygments_lexer": "ipython2",
   "version": "2.7.15"
  }
 },
 "nbformat": 4,
 "nbformat_minor": 2
}
