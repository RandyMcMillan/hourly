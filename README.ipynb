{
 "cells": [
  {
   "cell_type": "code",
   "execution_count": 1,
   "metadata": {},
   "outputs": [],
   "source": [
    "%load_ext autoreload\n",
    "\n",
    "%autoreload 2"
   ]
  },
  {
   "cell_type": "markdown",
   "metadata": {},
   "source": [
    "# Hourly\n",
    "A simple hour tracker for git projects. ```hourly``` parses your commit messages for \"clock in/out\" keywords and uses their unix timestamps to precisely calculate work hours.\n",
    "\n",
    "\n",
    "## Getting Started\n",
    "\n",
    "## Install\n",
    "\n",
    "    pip install hourly\n",
    "\n",
    "\n",
    "### Requirements\n",
    "\n",
    "\tpandas\n",
    "    gitpython\n",
    "\n",
    "### Usage\n",
    "\n",
    "Hourly will look for key words for clocking in/out.\n",
    "\n",
    "To clock in:\n",
    "\n",
    "    git commit -m \"clock in - starting work on new feature\"\n",
    "\n",
    "do stuff as usual, then clock out\n",
    "\n",
    "    git commit -m \"clock out - finished feature\"\n"
   ]
  },
  {
   "cell_type": "markdown",
   "metadata": {},
   "source": [
    "# Tutorial\n",
    "\n",
    "We can illustrate how to use hourly on the hourly repo itself.\n",
    "\n",
    "    git clone https://github.com/asherp/hourly.git\n",
    "    cd hourly"
   ]
  },
  {
   "cell_type": "code",
   "execution_count": 2,
   "metadata": {},
   "outputs": [],
   "source": [
    "from hourly.hourly import get_work_commits, get_labor, get_earnings"
   ]
  },
  {
   "cell_type": "markdown",
   "metadata": {},
   "source": [
    "```get_work_commits``` gathers all commits into a pandas array"
   ]
  },
  {
   "cell_type": "code",
   "execution_count": 3,
   "metadata": {
    "scrolled": false
   },
   "outputs": [
    {
     "data": {
      "text/html": [
       "<div>\n",
       "<style scoped>\n",
       "    .dataframe tbody tr th:only-of-type {\n",
       "        vertical-align: middle;\n",
       "    }\n",
       "\n",
       "    .dataframe tbody tr th {\n",
       "        vertical-align: top;\n",
       "    }\n",
       "\n",
       "    .dataframe thead th {\n",
       "        text-align: right;\n",
       "    }\n",
       "</style>\n",
       "<table border=\"1\" class=\"dataframe\">\n",
       "  <thead>\n",
       "    <tr style=\"text-align: right;\">\n",
       "      <th></th>\n",
       "      <th>message</th>\n",
       "      <th>hash</th>\n",
       "    </tr>\n",
       "    <tr>\n",
       "      <th>time</th>\n",
       "      <th></th>\n",
       "      <th></th>\n",
       "    </tr>\n",
       "  </thead>\n",
       "  <tbody>\n",
       "    <tr>\n",
       "      <th>2018-10-19 23:40:41-04:00</th>\n",
       "      <td>Initial commit</td>\n",
       "      <td>ef5690543bfb354b9325d1fbd1f9abbafbb4d9a4</td>\n",
       "    </tr>\n",
       "    <tr>\n",
       "      <th>2018-10-19 23:57:48-04:00</th>\n",
       "      <td>clock in\\n</td>\n",
       "      <td>5c8f05b57b739ec525291c248ea9200651b49997</td>\n",
       "    </tr>\n",
       "    <tr>\n",
       "      <th>2018-10-20 00:21:40-04:00</th>\n",
       "      <td>preparing setup.py\\n</td>\n",
       "      <td>254ecdacb52fc70bc358f8d55be58df3b70c7609</td>\n",
       "    </tr>\n",
       "    <tr>\n",
       "      <th>2018-10-20 00:39:11-04:00</th>\n",
       "      <td>clock out - work done for the day\\n</td>\n",
       "      <td>0e33fa3d74f663f954b05dd9f30e0128ca7af162</td>\n",
       "    </tr>\n",
       "    <tr>\n",
       "      <th>2018-10-20 01:06:08-04:00</th>\n",
       "      <td>clock in - start adding requirements and examp...</td>\n",
       "      <td>dc065b17337b14c2f8e0458de61e6880a338d6ae</td>\n",
       "    </tr>\n",
       "    <tr>\n",
       "      <th>2018-10-20 01:47:01-04:00</th>\n",
       "      <td>clock out\\n</td>\n",
       "      <td>644ad6ebf4c9015fd512ed47b858602d784d6204</td>\n",
       "    </tr>\n",
       "    <tr>\n",
       "      <th>2018-10-20 01:47:45-04:00</th>\n",
       "      <td>clock in - pro bono\\n</td>\n",
       "      <td>e6b5f78daa68e3731f82effccb66fd4bd14996bf</td>\n",
       "    </tr>\n",
       "    <tr>\n",
       "      <th>2018-10-20 01:51:36-04:00</th>\n",
       "      <td>clock out - pro bono\\n</td>\n",
       "      <td>1aff88af5e9688645966ccd15da8e1530205cfea</td>\n",
       "    </tr>\n",
       "    <tr>\n",
       "      <th>2018-10-20 02:03:56-04:00</th>\n",
       "      <td>clock in - finishing tutorial\\n</td>\n",
       "      <td>53bd7316e579d8582c46af09277b40fbba3a390e</td>\n",
       "    </tr>\n",
       "    <tr>\n",
       "      <th>2018-10-20 02:11:54-04:00</th>\n",
       "      <td>clock out - converted notebook for README\\n</td>\n",
       "      <td>d55b5718a3178ab6161f7e3a148c6561a305cd79</td>\n",
       "    </tr>\n",
       "    <tr>\n",
       "      <th>2018-10-20 02:14:21-04:00</th>\n",
       "      <td>had to clock out so notebook examples don't br...</td>\n",
       "      <td>d9ec537b36475b565df6b28d0cab6edc3a89f2da</td>\n",
       "    </tr>\n",
       "    <tr>\n",
       "      <th>2018-10-20 02:18:27-04:00</th>\n",
       "      <td>fixed for rendering\\n</td>\n",
       "      <td>e2f8a2ca212fa9e7568618934da18a0ec7164fa3</td>\n",
       "    </tr>\n",
       "    <tr>\n",
       "      <th>2018-10-20 02:22:56-04:00</th>\n",
       "      <td>fixing requiremens that raised a security alert\\n</td>\n",
       "      <td>e0e71a05c6c5af1fc5515040ec75f33b71bd3b15</td>\n",
       "    </tr>\n",
       "    <tr>\n",
       "      <th>2018-10-20 02:51:13-04:00</th>\n",
       "      <td>fixed requirements, tutorial updates\\n</td>\n",
       "      <td>d8d87767005022c9a8e83015d40f6fb736f2b73b</td>\n",
       "    </tr>\n",
       "    <tr>\n",
       "      <th>2018-10-20 02:57:22-04:00</th>\n",
       "      <td>merging\\n</td>\n",
       "      <td>f5585c89612a5fac2d948ee61536fffe276f8949</td>\n",
       "    </tr>\n",
       "    <tr>\n",
       "      <th>2018-10-20 11:53:00-04:00</th>\n",
       "      <td>clock in - handling errant messages\\n</td>\n",
       "      <td>fa615994ba6b771594d711dea6087cc7ba0348b5</td>\n",
       "    </tr>\n",
       "    <tr>\n",
       "      <th>2018-10-20 13:16:13-04:00</th>\n",
       "      <td>clock out - converting to pd.Timestamp\\n</td>\n",
       "      <td>ed7aab29e43e7120428816481216198a255de8f4</td>\n",
       "    </tr>\n",
       "    <tr>\n",
       "      <th>2018-10-20 13:47:56-04:00</th>\n",
       "      <td>clock in - adding work log\\n</td>\n",
       "      <td>5b398037bf24cd503a7fc88c3b078913fa184f7e</td>\n",
       "    </tr>\n",
       "  </tbody>\n",
       "</table>\n",
       "</div>"
      ],
      "text/plain": [
       "                                                                     message  \\\n",
       "time                                                                           \n",
       "2018-10-19 23:40:41-04:00                                     Initial commit   \n",
       "2018-10-19 23:57:48-04:00                                         clock in\\n   \n",
       "2018-10-20 00:21:40-04:00                               preparing setup.py\\n   \n",
       "2018-10-20 00:39:11-04:00                clock out - work done for the day\\n   \n",
       "2018-10-20 01:06:08-04:00  clock in - start adding requirements and examp...   \n",
       "2018-10-20 01:47:01-04:00                                        clock out\\n   \n",
       "2018-10-20 01:47:45-04:00                              clock in - pro bono\\n   \n",
       "2018-10-20 01:51:36-04:00                             clock out - pro bono\\n   \n",
       "2018-10-20 02:03:56-04:00                    clock in - finishing tutorial\\n   \n",
       "2018-10-20 02:11:54-04:00        clock out - converted notebook for README\\n   \n",
       "2018-10-20 02:14:21-04:00  had to clock out so notebook examples don't br...   \n",
       "2018-10-20 02:18:27-04:00                              fixed for rendering\\n   \n",
       "2018-10-20 02:22:56-04:00  fixing requiremens that raised a security alert\\n   \n",
       "2018-10-20 02:51:13-04:00             fixed requirements, tutorial updates\\n   \n",
       "2018-10-20 02:57:22-04:00                                          merging\\n   \n",
       "2018-10-20 11:53:00-04:00              clock in - handling errant messages\\n   \n",
       "2018-10-20 13:16:13-04:00           clock out - converting to pd.Timestamp\\n   \n",
       "2018-10-20 13:47:56-04:00                       clock in - adding work log\\n   \n",
       "\n",
       "                                                               hash  \n",
       "time                                                                 \n",
       "2018-10-19 23:40:41-04:00  ef5690543bfb354b9325d1fbd1f9abbafbb4d9a4  \n",
       "2018-10-19 23:57:48-04:00  5c8f05b57b739ec525291c248ea9200651b49997  \n",
       "2018-10-20 00:21:40-04:00  254ecdacb52fc70bc358f8d55be58df3b70c7609  \n",
       "2018-10-20 00:39:11-04:00  0e33fa3d74f663f954b05dd9f30e0128ca7af162  \n",
       "2018-10-20 01:06:08-04:00  dc065b17337b14c2f8e0458de61e6880a338d6ae  \n",
       "2018-10-20 01:47:01-04:00  644ad6ebf4c9015fd512ed47b858602d784d6204  \n",
       "2018-10-20 01:47:45-04:00  e6b5f78daa68e3731f82effccb66fd4bd14996bf  \n",
       "2018-10-20 01:51:36-04:00  1aff88af5e9688645966ccd15da8e1530205cfea  \n",
       "2018-10-20 02:03:56-04:00  53bd7316e579d8582c46af09277b40fbba3a390e  \n",
       "2018-10-20 02:11:54-04:00  d55b5718a3178ab6161f7e3a148c6561a305cd79  \n",
       "2018-10-20 02:14:21-04:00  d9ec537b36475b565df6b28d0cab6edc3a89f2da  \n",
       "2018-10-20 02:18:27-04:00  e2f8a2ca212fa9e7568618934da18a0ec7164fa3  \n",
       "2018-10-20 02:22:56-04:00  e0e71a05c6c5af1fc5515040ec75f33b71bd3b15  \n",
       "2018-10-20 02:51:13-04:00  d8d87767005022c9a8e83015d40f6fb736f2b73b  \n",
       "2018-10-20 02:57:22-04:00  f5585c89612a5fac2d948ee61536fffe276f8949  \n",
       "2018-10-20 11:53:00-04:00  fa615994ba6b771594d711dea6087cc7ba0348b5  \n",
       "2018-10-20 13:16:13-04:00  ed7aab29e43e7120428816481216198a255de8f4  \n",
       "2018-10-20 13:47:56-04:00  5b398037bf24cd503a7fc88c3b078913fa184f7e  "
      ]
     },
     "execution_count": 3,
     "metadata": {},
     "output_type": "execute_result"
    }
   ],
   "source": [
    "work = get_work_commits('.')\n",
    "work"
   ]
  },
  {
   "cell_type": "markdown",
   "metadata": {},
   "source": [
    "```get_labor``` calculates hours worked by differencing commit timestamps and raises an error if clock in and clock out are of different lengths."
   ]
  },
  {
   "cell_type": "markdown",
   "metadata": {},
   "source": [
    "### Getting time card"
   ]
  },
  {
   "cell_type": "code",
   "execution_count": 4,
   "metadata": {},
   "outputs": [],
   "source": [
    "import pandas as pd\n",
    "pd.set_option('display.width', 400)"
   ]
  },
  {
   "cell_type": "code",
   "execution_count": 5,
   "metadata": {
    "scrolled": false
   },
   "outputs": [
    {
     "name": "stdout",
     "output_type": "stream",
     "text": [
      "pay period: 2018-10-19 23:57:48-04:00 -> 2018-10-20 02:11:54-04:00\n"
     ]
    },
    {
     "data": {
      "text/html": [
       "<div>\n",
       "<style scoped>\n",
       "    .dataframe tbody tr th:only-of-type {\n",
       "        vertical-align: middle;\n",
       "    }\n",
       "\n",
       "    .dataframe tbody tr th {\n",
       "        vertical-align: top;\n",
       "    }\n",
       "\n",
       "    .dataframe thead th {\n",
       "        text-align: right;\n",
       "    }\n",
       "</style>\n",
       "<table border=\"1\" class=\"dataframe\">\n",
       "  <thead>\n",
       "    <tr style=\"text-align: right;\">\n",
       "      <th></th>\n",
       "      <th>TimeIn</th>\n",
       "      <th>log in</th>\n",
       "      <th>TimeOut</th>\n",
       "      <th>log out</th>\n",
       "      <th>TimeDelta</th>\n",
       "    </tr>\n",
       "  </thead>\n",
       "  <tbody>\n",
       "    <tr>\n",
       "      <th>0</th>\n",
       "      <td>2018-10-19 23:57:48-04:00</td>\n",
       "      <td>clock in\\n</td>\n",
       "      <td>2018-10-20 00:39:11-04:00</td>\n",
       "      <td>clock out - work done for the day\\n</td>\n",
       "      <td>00:41:23</td>\n",
       "    </tr>\n",
       "    <tr>\n",
       "      <th>1</th>\n",
       "      <td>2018-10-20 01:06:08-04:00</td>\n",
       "      <td>clock in - start adding requirements and examp...</td>\n",
       "      <td>2018-10-20 01:47:01-04:00</td>\n",
       "      <td>clock out\\n</td>\n",
       "      <td>00:40:53</td>\n",
       "    </tr>\n",
       "    <tr>\n",
       "      <th>2</th>\n",
       "      <td>2018-10-20 01:47:45-04:00</td>\n",
       "      <td>clock in - pro bono\\n</td>\n",
       "      <td>2018-10-20 01:51:36-04:00</td>\n",
       "      <td>clock out - pro bono\\n</td>\n",
       "      <td>00:03:51</td>\n",
       "    </tr>\n",
       "    <tr>\n",
       "      <th>3</th>\n",
       "      <td>2018-10-20 02:03:56-04:00</td>\n",
       "      <td>clock in - finishing tutorial\\n</td>\n",
       "      <td>2018-10-20 02:11:54-04:00</td>\n",
       "      <td>clock out - converted notebook for README\\n</td>\n",
       "      <td>00:07:58</td>\n",
       "    </tr>\n",
       "  </tbody>\n",
       "</table>\n",
       "</div>"
      ],
      "text/plain": [
       "                     TimeIn                                             log in                   TimeOut                                      log out TimeDelta\n",
       "0 2018-10-19 23:57:48-04:00                                         clock in\\n 2018-10-20 00:39:11-04:00          clock out - work done for the day\\n  00:41:23\n",
       "1 2018-10-20 01:06:08-04:00  clock in - start adding requirements and examp... 2018-10-20 01:47:01-04:00                                  clock out\\n  00:40:53\n",
       "2 2018-10-20 01:47:45-04:00                              clock in - pro bono\\n 2018-10-20 01:51:36-04:00                       clock out - pro bono\\n  00:03:51\n",
       "3 2018-10-20 02:03:56-04:00                    clock in - finishing tutorial\\n 2018-10-20 02:11:54-04:00  clock out - converted notebook for README\\n  00:07:58"
      ]
     },
     "execution_count": 5,
     "metadata": {},
     "output_type": "execute_result"
    }
   ],
   "source": [
    "get_labor(work, end_date='2018-10-20 02:11:54-04:00')"
   ]
  },
  {
   "cell_type": "markdown",
   "metadata": {},
   "source": [
    "### Handling errant clock in/out messages\n",
    "If you mistakenly put \"clock out\" in a message, hourly will interpret the message as a legitimate end time. This will likely raise an error when computing the labor. For example, there is a problematic commit in the this repo's history:"
   ]
  },
  {
   "cell_type": "code",
   "execution_count": 6,
   "metadata": {},
   "outputs": [
    {
     "data": {
      "text/html": [
       "<div>\n",
       "<style scoped>\n",
       "    .dataframe tbody tr th:only-of-type {\n",
       "        vertical-align: middle;\n",
       "    }\n",
       "\n",
       "    .dataframe tbody tr th {\n",
       "        vertical-align: top;\n",
       "    }\n",
       "\n",
       "    .dataframe thead th {\n",
       "        text-align: right;\n",
       "    }\n",
       "</style>\n",
       "<table border=\"1\" class=\"dataframe\">\n",
       "  <thead>\n",
       "    <tr style=\"text-align: right;\">\n",
       "      <th></th>\n",
       "      <th>message</th>\n",
       "      <th>hash</th>\n",
       "    </tr>\n",
       "    <tr>\n",
       "      <th>time</th>\n",
       "      <th></th>\n",
       "      <th></th>\n",
       "    </tr>\n",
       "  </thead>\n",
       "  <tbody>\n",
       "    <tr>\n",
       "      <th>2018-10-20 02:14:21-04:00</th>\n",
       "      <td>had to clock out so notebook examples don't br...</td>\n",
       "      <td>d9ec537b36475b565df6b28d0cab6edc3a89f2da</td>\n",
       "    </tr>\n",
       "  </tbody>\n",
       "</table>\n",
       "</div>"
      ],
      "text/plain": [
       "                                                                     message                                      hash\n",
       "time                                                                                                                  \n",
       "2018-10-20 02:14:21-04:00  had to clock out so notebook examples don't br...  d9ec537b36475b565df6b28d0cab6edc3a89f2da"
      ]
     },
     "execution_count": 6,
     "metadata": {},
     "output_type": "execute_result"
    }
   ],
   "source": [
    "problematic_commit = work[work.hash == 'd9ec537b36475b565df6b28d0cab6edc3a89f2da']\n",
    "problematic_commit"
   ]
  },
  {
   "cell_type": "markdown",
   "metadata": {},
   "source": [
    "When we include this in our labor calculation, we get the following error:"
   ]
  },
  {
   "cell_type": "code",
   "execution_count": 7,
   "metadata": {},
   "outputs": [
    {
     "name": "stdout",
     "output_type": "stream",
     "text": [
      "pay period: 2018-10-19 23:57:48-04:00 -> 2018-10-20 13:16:13-04:00\n",
      "In/Out logs do not match\n"
     ]
    }
   ],
   "source": [
    "try:\n",
    "    get_labor(work, end_date = '2018-10-20 13:16:13-04:00')\n",
    "except ValueError as e:\n",
    "    print(e)"
   ]
  },
  {
   "cell_type": "markdown",
   "metadata": {},
   "source": [
    "We can skip this errant commit by setting ```errant_clocks```"
   ]
  },
  {
   "cell_type": "code",
   "execution_count": 8,
   "metadata": {},
   "outputs": [
    {
     "name": "stdout",
     "output_type": "stream",
     "text": [
      "pay period: 2018-10-19 23:57:48-04:00 -> 2018-10-20 13:16:13-04:00\n"
     ]
    },
    {
     "data": {
      "text/html": [
       "<div>\n",
       "<style scoped>\n",
       "    .dataframe tbody tr th:only-of-type {\n",
       "        vertical-align: middle;\n",
       "    }\n",
       "\n",
       "    .dataframe tbody tr th {\n",
       "        vertical-align: top;\n",
       "    }\n",
       "\n",
       "    .dataframe thead th {\n",
       "        text-align: right;\n",
       "    }\n",
       "</style>\n",
       "<table border=\"1\" class=\"dataframe\">\n",
       "  <thead>\n",
       "    <tr style=\"text-align: right;\">\n",
       "      <th></th>\n",
       "      <th>TimeIn</th>\n",
       "      <th>log in</th>\n",
       "      <th>TimeOut</th>\n",
       "      <th>log out</th>\n",
       "      <th>TimeDelta</th>\n",
       "    </tr>\n",
       "  </thead>\n",
       "  <tbody>\n",
       "    <tr>\n",
       "      <th>0</th>\n",
       "      <td>2018-10-19 23:57:48-04:00</td>\n",
       "      <td>clock in\\n</td>\n",
       "      <td>2018-10-20 00:39:11-04:00</td>\n",
       "      <td>clock out - work done for the day\\n</td>\n",
       "      <td>00:41:23</td>\n",
       "    </tr>\n",
       "    <tr>\n",
       "      <th>1</th>\n",
       "      <td>2018-10-20 01:06:08-04:00</td>\n",
       "      <td>clock in - start adding requirements and examp...</td>\n",
       "      <td>2018-10-20 01:47:01-04:00</td>\n",
       "      <td>clock out\\n</td>\n",
       "      <td>00:40:53</td>\n",
       "    </tr>\n",
       "    <tr>\n",
       "      <th>2</th>\n",
       "      <td>2018-10-20 01:47:45-04:00</td>\n",
       "      <td>clock in - pro bono\\n</td>\n",
       "      <td>2018-10-20 01:51:36-04:00</td>\n",
       "      <td>clock out - pro bono\\n</td>\n",
       "      <td>00:03:51</td>\n",
       "    </tr>\n",
       "    <tr>\n",
       "      <th>3</th>\n",
       "      <td>2018-10-20 02:03:56-04:00</td>\n",
       "      <td>clock in - finishing tutorial\\n</td>\n",
       "      <td>2018-10-20 02:11:54-04:00</td>\n",
       "      <td>clock out - converted notebook for README\\n</td>\n",
       "      <td>00:07:58</td>\n",
       "    </tr>\n",
       "    <tr>\n",
       "      <th>4</th>\n",
       "      <td>2018-10-20 11:53:00-04:00</td>\n",
       "      <td>clock in - handling errant messages\\n</td>\n",
       "      <td>2018-10-20 13:16:13-04:00</td>\n",
       "      <td>clock out - converting to pd.Timestamp\\n</td>\n",
       "      <td>01:23:13</td>\n",
       "    </tr>\n",
       "  </tbody>\n",
       "</table>\n",
       "</div>"
      ],
      "text/plain": [
       "                     TimeIn                                             log in                   TimeOut                                      log out TimeDelta\n",
       "0 2018-10-19 23:57:48-04:00                                         clock in\\n 2018-10-20 00:39:11-04:00          clock out - work done for the day\\n  00:41:23\n",
       "1 2018-10-20 01:06:08-04:00  clock in - start adding requirements and examp... 2018-10-20 01:47:01-04:00                                  clock out\\n  00:40:53\n",
       "2 2018-10-20 01:47:45-04:00                              clock in - pro bono\\n 2018-10-20 01:51:36-04:00                       clock out - pro bono\\n  00:03:51\n",
       "3 2018-10-20 02:03:56-04:00                    clock in - finishing tutorial\\n 2018-10-20 02:11:54-04:00  clock out - converted notebook for README\\n  00:07:58\n",
       "4 2018-10-20 11:53:00-04:00              clock in - handling errant messages\\n 2018-10-20 13:16:13-04:00     clock out - converting to pd.Timestamp\\n  01:23:13"
      ]
     },
     "execution_count": 8,
     "metadata": {},
     "output_type": "execute_result"
    }
   ],
   "source": [
    "get_labor(work, end_date = '2018-10-20 13:16:13-04:00', \n",
    "          errant_clocks = ['d9ec537b36475b565df6b28d0cab6edc3a89f2da'])"
   ]
  },
  {
   "cell_type": "markdown",
   "metadata": {},
   "source": [
    "### Filtering work session keywords\n",
    "\n",
    "Use the \"ignore\" key word to skip any work you don't want to include in your invoices."
   ]
  },
  {
   "cell_type": "code",
   "execution_count": 9,
   "metadata": {},
   "outputs": [
    {
     "name": "stdout",
     "output_type": "stream",
     "text": [
      "pay period: 2018-10-19 23:57:48-04:00 -> 2018-10-20 13:16:13-04:00\n",
      "ignoring pro bono\n"
     ]
    },
    {
     "data": {
      "text/html": [
       "<div>\n",
       "<style scoped>\n",
       "    .dataframe tbody tr th:only-of-type {\n",
       "        vertical-align: middle;\n",
       "    }\n",
       "\n",
       "    .dataframe tbody tr th {\n",
       "        vertical-align: top;\n",
       "    }\n",
       "\n",
       "    .dataframe thead th {\n",
       "        text-align: right;\n",
       "    }\n",
       "</style>\n",
       "<table border=\"1\" class=\"dataframe\">\n",
       "  <thead>\n",
       "    <tr style=\"text-align: right;\">\n",
       "      <th></th>\n",
       "      <th>TimeIn</th>\n",
       "      <th>log in</th>\n",
       "      <th>TimeOut</th>\n",
       "      <th>log out</th>\n",
       "      <th>TimeDelta</th>\n",
       "    </tr>\n",
       "  </thead>\n",
       "  <tbody>\n",
       "    <tr>\n",
       "      <th>0</th>\n",
       "      <td>2018-10-19 23:57:48-04:00</td>\n",
       "      <td>clock in\\n</td>\n",
       "      <td>2018-10-20 00:39:11-04:00</td>\n",
       "      <td>clock out - work done for the day\\n</td>\n",
       "      <td>00:41:23</td>\n",
       "    </tr>\n",
       "    <tr>\n",
       "      <th>1</th>\n",
       "      <td>2018-10-20 01:06:08-04:00</td>\n",
       "      <td>clock in - start adding requirements and examp...</td>\n",
       "      <td>2018-10-20 01:47:01-04:00</td>\n",
       "      <td>clock out\\n</td>\n",
       "      <td>00:40:53</td>\n",
       "    </tr>\n",
       "    <tr>\n",
       "      <th>3</th>\n",
       "      <td>2018-10-20 02:03:56-04:00</td>\n",
       "      <td>clock in - finishing tutorial\\n</td>\n",
       "      <td>2018-10-20 02:11:54-04:00</td>\n",
       "      <td>clock out - converted notebook for README\\n</td>\n",
       "      <td>00:07:58</td>\n",
       "    </tr>\n",
       "    <tr>\n",
       "      <th>4</th>\n",
       "      <td>2018-10-20 11:53:00-04:00</td>\n",
       "      <td>clock in - handling errant messages\\n</td>\n",
       "      <td>2018-10-20 13:16:13-04:00</td>\n",
       "      <td>clock out - converting to pd.Timestamp\\n</td>\n",
       "      <td>01:23:13</td>\n",
       "    </tr>\n",
       "  </tbody>\n",
       "</table>\n",
       "</div>"
      ],
      "text/plain": [
       "                     TimeIn                                             log in                   TimeOut                                      log out TimeDelta\n",
       "0 2018-10-19 23:57:48-04:00                                         clock in\\n 2018-10-20 00:39:11-04:00          clock out - work done for the day\\n  00:41:23\n",
       "1 2018-10-20 01:06:08-04:00  clock in - start adding requirements and examp... 2018-10-20 01:47:01-04:00                                  clock out\\n  00:40:53\n",
       "3 2018-10-20 02:03:56-04:00                    clock in - finishing tutorial\\n 2018-10-20 02:11:54-04:00  clock out - converted notebook for README\\n  00:07:58\n",
       "4 2018-10-20 11:53:00-04:00              clock in - handling errant messages\\n 2018-10-20 13:16:13-04:00     clock out - converting to pd.Timestamp\\n  01:23:13"
      ]
     },
     "execution_count": 9,
     "metadata": {},
     "output_type": "execute_result"
    }
   ],
   "source": [
    "labor = get_labor(work, \n",
    "            ignore = 'pro bono', \n",
    "            end_date = '2018-10-20 13:16:13-04:00',\n",
    "            errant_clocks = ['d9ec537b36475b565df6b28d0cab6edc3a89f2da'])\n",
    "labor"
   ]
  },
  {
   "cell_type": "markdown",
   "metadata": {},
   "source": [
    "## Get total earnings\n",
    "\n",
    "Total earnings can be found using this function. Currency is just a string for printing, but in the future we can add unit conversion."
   ]
  },
  {
   "cell_type": "code",
   "execution_count": 10,
   "metadata": {},
   "outputs": [
    {
     "name": "stdout",
     "output_type": "stream",
     "text": [
      "0 days 02:53:27, 2.890833333333333 hours worked\n",
      "86.72 USD\n"
     ]
    },
    {
     "data": {
      "text/plain": [
       "86.72"
      ]
     },
     "execution_count": 10,
     "metadata": {},
     "output_type": "execute_result"
    }
   ],
   "source": [
    "get_earnings(labor, wage = 30, currency = 'USD')"
   ]
  }
 ],
 "metadata": {
  "kernelspec": {
   "display_name": "Python 3",
   "language": "python",
   "name": "python3"
  },
  "language_info": {
   "codemirror_mode": {
    "name": "ipython",
    "version": 3
   },
   "file_extension": ".py",
   "mimetype": "text/x-python",
   "name": "python",
   "nbconvert_exporter": "python",
   "pygments_lexer": "ipython3",
   "version": "3.7.0"
  }
 },
 "nbformat": 4,
 "nbformat_minor": 2
}
