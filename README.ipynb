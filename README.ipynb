{
 "cells": [
  {
   "cell_type": "code",
   "execution_count": 1,
   "metadata": {},
   "outputs": [],
   "source": [
    "%load_ext autoreload\n",
    "\n",
    "%autoreload 2"
   ]
  },
  {
   "cell_type": "markdown",
   "metadata": {},
   "source": [
    "# Hourly\n",
    "A simple hour tracker for git projects. ```hourly``` parses your commit messages for \"clock in/out\" keywords and uses their unix timestamps to precisely calculate work hours.\n",
    "\n",
    "\n",
    "## Getting Started\n",
    "\n",
    "## Install\n",
    "\n",
    "    pip install hourly\n",
    "\n",
    "\n",
    "### Requirements\n",
    "\n",
    "\tpandas\n",
    "    gitpython\n",
    "\n",
    "### Usage\n",
    "\n",
    "Hourly will look for key words for clocking in/out.\n",
    "\n",
    "To clock in:\n",
    "\n",
    "    git commit -m \"clock in - starting work on new feature\"\n",
    "\n",
    "do stuff as usual, then clock out\n",
    "\n",
    "    git commit -m \"clock out - finished feature\"\n"
   ]
  },
  {
   "cell_type": "markdown",
   "metadata": {},
   "source": [
    "# Tutorial\n",
    "\n",
    "We can illustrate how to use hourly on the hourly repo itself.\n",
    "\n",
    "    git clone https://github.com/asherp/hourly.git\n",
    "    cd hourly"
   ]
  },
  {
   "cell_type": "code",
   "execution_count": 2,
   "metadata": {},
   "outputs": [],
   "source": [
    "from hourly.hourly import get_work_commits, get_labor, get_pay_usd"
   ]
  },
  {
   "cell_type": "markdown",
   "metadata": {},
   "source": [
    "```get_work_commits``` gathers all commits into a pandas array"
   ]
  },
  {
   "cell_type": "code",
   "execution_count": 3,
   "metadata": {},
   "outputs": [
    {
     "data": {
      "text/html": [
       "<div>\n",
       "<style scoped>\n",
       "    .dataframe tbody tr th:only-of-type {\n",
       "        vertical-align: middle;\n",
       "    }\n",
       "\n",
       "    .dataframe tbody tr th {\n",
       "        vertical-align: top;\n",
       "    }\n",
       "\n",
       "    .dataframe thead th {\n",
       "        text-align: right;\n",
       "    }\n",
       "</style>\n",
       "<table border=\"1\" class=\"dataframe\">\n",
       "  <thead>\n",
       "    <tr style=\"text-align: right;\">\n",
       "      <th></th>\n",
       "      <th>message</th>\n",
       "    </tr>\n",
       "    <tr>\n",
       "      <th>time</th>\n",
       "      <th></th>\n",
       "    </tr>\n",
       "  </thead>\n",
       "  <tbody>\n",
       "    <tr>\n",
       "      <th>2018-10-19 23:40:41-04:00</th>\n",
       "      <td>Initial commit</td>\n",
       "    </tr>\n",
       "    <tr>\n",
       "      <th>2018-10-19 23:57:48-04:00</th>\n",
       "      <td>clock in\\n</td>\n",
       "    </tr>\n",
       "    <tr>\n",
       "      <th>2018-10-20 00:21:40-04:00</th>\n",
       "      <td>preparing setup.py\\n</td>\n",
       "    </tr>\n",
       "    <tr>\n",
       "      <th>2018-10-20 00:39:11-04:00</th>\n",
       "      <td>clock out - work done for the day\\n</td>\n",
       "    </tr>\n",
       "    <tr>\n",
       "      <th>2018-10-20 01:06:08-04:00</th>\n",
       "      <td>clock in - start adding requirements and examp...</td>\n",
       "    </tr>\n",
       "    <tr>\n",
       "      <th>2018-10-20 01:47:01-04:00</th>\n",
       "      <td>clock out\\n</td>\n",
       "    </tr>\n",
       "    <tr>\n",
       "      <th>2018-10-20 01:47:45-04:00</th>\n",
       "      <td>clock in - pro bono\\n</td>\n",
       "    </tr>\n",
       "    <tr>\n",
       "      <th>2018-10-20 01:51:36-04:00</th>\n",
       "      <td>clock out - pro bono\\n</td>\n",
       "    </tr>\n",
       "    <tr>\n",
       "      <th>2018-10-20 02:03:56-04:00</th>\n",
       "      <td>clock in - finishing tutorial\\n</td>\n",
       "    </tr>\n",
       "  </tbody>\n",
       "</table>\n",
       "</div>"
      ],
      "text/plain": [
       "                                                                     message\n",
       "time                                                                        \n",
       "2018-10-19 23:40:41-04:00                                     Initial commit\n",
       "2018-10-19 23:57:48-04:00                                         clock in\\n\n",
       "2018-10-20 00:21:40-04:00                               preparing setup.py\\n\n",
       "2018-10-20 00:39:11-04:00                clock out - work done for the day\\n\n",
       "2018-10-20 01:06:08-04:00  clock in - start adding requirements and examp...\n",
       "2018-10-20 01:47:01-04:00                                        clock out\\n\n",
       "2018-10-20 01:47:45-04:00                              clock in - pro bono\\n\n",
       "2018-10-20 01:51:36-04:00                             clock out - pro bono\\n\n",
       "2018-10-20 02:03:56-04:00                    clock in - finishing tutorial\\n"
      ]
     },
     "execution_count": 3,
     "metadata": {},
     "output_type": "execute_result"
    }
   ],
   "source": [
    "work = get_work_commits('.')\n",
    "work"
   ]
  },
  {
   "cell_type": "markdown",
   "metadata": {},
   "source": [
    "```get_labor``` calculates hours worked by differencing commit timestamps. \n",
    "*Note: ```get_labor``` raises an error if clock in and clock out are of different lengths *"
   ]
  },
  {
   "cell_type": "markdown",
   "metadata": {},
   "source": [
    "### Getting time card"
   ]
  },
  {
   "cell_type": "code",
   "execution_count": 4,
   "metadata": {},
   "outputs": [
    {
     "name": "stdout",
     "output_type": "stream",
     "text": [
      "pay period: 2018-10-19 23:57:48-04:00 -> 2018-10-20 02:03:56-04:00\n"
     ]
    },
    {
     "ename": "ValueError",
     "evalue": "In/Out logs do not match",
     "output_type": "error",
     "traceback": [
      "\u001b[1;31m---------------------------------------------------------------------------\u001b[0m",
      "\u001b[1;31mAssertionError\u001b[0m                            Traceback (most recent call last)",
      "\u001b[1;32m~\\Documents\\Projects\\hourly\\hourly\\hourly.py\u001b[0m in \u001b[0;36mget_labor\u001b[1;34m(work, start_date, end_date, ignore, case_sensitive, verbose)\u001b[0m\n\u001b[0;32m     47\u001b[0m     \u001b[1;32mtry\u001b[0m\u001b[1;33m:\u001b[0m\u001b[1;33m\u001b[0m\u001b[0m\n\u001b[1;32m---> 48\u001b[1;33m         \u001b[1;32massert\u001b[0m \u001b[0mlen\u001b[0m\u001b[1;33m(\u001b[0m\u001b[0mclock_in\u001b[0m\u001b[1;33m)\u001b[0m \u001b[1;33m==\u001b[0m \u001b[0mlen\u001b[0m\u001b[1;33m(\u001b[0m\u001b[0mclock_out\u001b[0m\u001b[1;33m)\u001b[0m\u001b[1;33m\u001b[0m\u001b[0m\n\u001b[0m\u001b[0;32m     49\u001b[0m     \u001b[1;32mexcept\u001b[0m\u001b[1;33m:\u001b[0m\u001b[1;33m\u001b[0m\u001b[0m\n",
      "\u001b[1;31mAssertionError\u001b[0m: ",
      "\nDuring handling of the above exception, another exception occurred:\n",
      "\u001b[1;31mValueError\u001b[0m                                Traceback (most recent call last)",
      "\u001b[1;32m<ipython-input-4-798babb3f913>\u001b[0m in \u001b[0;36m<module>\u001b[1;34m\u001b[0m\n\u001b[1;32m----> 1\u001b[1;33m \u001b[0mget_labor\u001b[0m\u001b[1;33m(\u001b[0m\u001b[0mwork\u001b[0m\u001b[1;33m)\u001b[0m\u001b[1;33m\u001b[0m\u001b[0m\n\u001b[0m",
      "\u001b[1;32m~\\Documents\\Projects\\hourly\\hourly\\hourly.py\u001b[0m in \u001b[0;36mget_labor\u001b[1;34m(work, start_date, end_date, ignore, case_sensitive, verbose)\u001b[0m\n\u001b[0;32m     48\u001b[0m         \u001b[1;32massert\u001b[0m \u001b[0mlen\u001b[0m\u001b[1;33m(\u001b[0m\u001b[0mclock_in\u001b[0m\u001b[1;33m)\u001b[0m \u001b[1;33m==\u001b[0m \u001b[0mlen\u001b[0m\u001b[1;33m(\u001b[0m\u001b[0mclock_out\u001b[0m\u001b[1;33m)\u001b[0m\u001b[1;33m\u001b[0m\u001b[0m\n\u001b[0;32m     49\u001b[0m     \u001b[1;32mexcept\u001b[0m\u001b[1;33m:\u001b[0m\u001b[1;33m\u001b[0m\u001b[0m\n\u001b[1;32m---> 50\u001b[1;33m         \u001b[1;32mraise\u001b[0m \u001b[0mValueError\u001b[0m\u001b[1;33m(\u001b[0m\u001b[1;34m\"In/Out logs do not match\"\u001b[0m\u001b[1;33m)\u001b[0m\u001b[1;33m\u001b[0m\u001b[0m\n\u001b[0m\u001b[0;32m     51\u001b[0m \u001b[1;33m\u001b[0m\u001b[0m\n\u001b[0;32m     52\u001b[0m     \u001b[0mlabor\u001b[0m \u001b[1;33m=\u001b[0m \u001b[0mpd\u001b[0m\u001b[1;33m.\u001b[0m\u001b[0mconcat\u001b[0m\u001b[1;33m(\u001b[0m\u001b[1;33m[\u001b[0m\u001b[0mclock_in\u001b[0m\u001b[1;33m,\u001b[0m \u001b[0mclock_out\u001b[0m\u001b[1;33m]\u001b[0m\u001b[1;33m,\u001b[0m \u001b[0maxis\u001b[0m \u001b[1;33m=\u001b[0m \u001b[1;36m1\u001b[0m\u001b[1;33m)\u001b[0m\u001b[1;33m\u001b[0m\u001b[0m\n",
      "\u001b[1;31mValueError\u001b[0m: In/Out logs do not match"
     ]
    }
   ],
   "source": [
    "get_labor(work)"
   ]
  },
  {
   "cell_type": "markdown",
   "metadata": {},
   "source": [
    "### Filtering work session keywords\n",
    "\n",
    "Use the \"ignore\" key word to skip any work you don't want to include in your invoices."
   ]
  },
  {
   "cell_type": "code",
   "execution_count": 26,
   "metadata": {},
   "outputs": [
    {
     "name": "stdout",
     "output_type": "stream",
     "text": [
      "pay period: 2018-10-19 23:57:48-04:00 -> 2018-10-20 02:03:56-04:00\n"
     ]
    },
    {
     "ename": "ValueError",
     "evalue": "In/Out logs do not match",
     "output_type": "error",
     "traceback": [
      "\u001b[1;31m---------------------------------------------------------------------------\u001b[0m",
      "\u001b[1;31mValueError\u001b[0m                                Traceback (most recent call last)",
      "\u001b[1;32m<ipython-input-26-7e529657d9fe>\u001b[0m in \u001b[0;36m<module>\u001b[1;34m()\u001b[0m\n\u001b[1;32m----> 1\u001b[1;33m \u001b[0mget_labor\u001b[0m\u001b[1;33m(\u001b[0m\u001b[0mwork\u001b[0m\u001b[1;33m,\u001b[0m \u001b[0mignore\u001b[0m \u001b[1;33m=\u001b[0m \u001b[1;34m'pro bono'\u001b[0m\u001b[1;33m)\u001b[0m\u001b[1;33m\u001b[0m\u001b[0m\n\u001b[0m",
      "\u001b[1;32mC:\\Users\\Asher\\Documents\\Projects\\hourly\\hourly\\hourly.py\u001b[0m in \u001b[0;36mget_labor\u001b[1;34m(work, start_date, end_date, ignore, case_sensitive, verbose)\u001b[0m\n\u001b[0;32m     48\u001b[0m         \u001b[1;32massert\u001b[0m \u001b[0mlen\u001b[0m\u001b[1;33m(\u001b[0m\u001b[0mclock_in\u001b[0m\u001b[1;33m)\u001b[0m \u001b[1;33m==\u001b[0m \u001b[0mlen\u001b[0m\u001b[1;33m(\u001b[0m\u001b[0mclock_out\u001b[0m\u001b[1;33m)\u001b[0m\u001b[1;33m\u001b[0m\u001b[0m\n\u001b[0;32m     49\u001b[0m     \u001b[1;32mexcept\u001b[0m\u001b[1;33m:\u001b[0m\u001b[1;33m\u001b[0m\u001b[0m\n\u001b[1;32m---> 50\u001b[1;33m         \u001b[1;32mraise\u001b[0m \u001b[0mValueError\u001b[0m\u001b[1;33m(\u001b[0m\u001b[1;34m\"In/Out logs do not match\"\u001b[0m\u001b[1;33m)\u001b[0m\u001b[1;33m\u001b[0m\u001b[0m\n\u001b[0m\u001b[0;32m     51\u001b[0m \u001b[1;33m\u001b[0m\u001b[0m\n\u001b[0;32m     52\u001b[0m     \u001b[0mlabor\u001b[0m \u001b[1;33m=\u001b[0m \u001b[0mpd\u001b[0m\u001b[1;33m.\u001b[0m\u001b[0mconcat\u001b[0m\u001b[1;33m(\u001b[0m\u001b[1;33m[\u001b[0m\u001b[0mclock_in\u001b[0m\u001b[1;33m,\u001b[0m \u001b[0mclock_out\u001b[0m\u001b[1;33m]\u001b[0m\u001b[1;33m,\u001b[0m \u001b[0maxis\u001b[0m \u001b[1;33m=\u001b[0m \u001b[1;36m1\u001b[0m\u001b[1;33m)\u001b[0m\u001b[1;33m\u001b[0m\u001b[0m\n",
      "\u001b[1;31mValueError\u001b[0m: In/Out logs do not match"
     ]
    }
   ],
   "source": [
    "get_labor(work, ignore = 'pro bono')"
   ]
  },
  {
   "cell_type": "code",
   "execution_count": null,
   "metadata": {},
   "outputs": [],
   "source": []
  }
 ],
 "metadata": {
  "kernelspec": {
   "display_name": "Python 3",
   "language": "python",
   "name": "python3"
  },
  "language_info": {
   "codemirror_mode": {
    "name": "ipython",
    "version": 3
   },
   "file_extension": ".py",
   "mimetype": "text/x-python",
   "name": "python",
   "nbconvert_exporter": "python",
   "pygments_lexer": "ipython3",
   "version": "3.7.0"
  }
 },
 "nbformat": 4,
 "nbformat_minor": 2
}
